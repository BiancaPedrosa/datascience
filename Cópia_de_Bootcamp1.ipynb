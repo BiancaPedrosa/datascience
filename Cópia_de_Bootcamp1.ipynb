{
  "nbformat": 4,
  "nbformat_minor": 0,
  "metadata": {
    "colab": {
      "name": "Cópia de Bootcamp1.ipynb",
      "provenance": [],
      "authorship_tag": "ABX9TyNTjXdGRa9f92mUTzD9RLzR",
      "include_colab_link": true
    },
    "kernelspec": {
      "name": "python3",
      "display_name": "Python 3"
    },
    "language_info": {
      "name": "python"
    }
  },
  "cells": [
    {
      "cell_type": "markdown",
      "metadata": {
        "id": "view-in-github",
        "colab_type": "text"
      },
      "source": [
        "<a href=\"https://colab.research.google.com/github/BiancaPedrosa/datascience/blob/master/C%C3%B3pia_de_Bootcamp1.ipynb\" target=\"_parent\"><img src=\"https://colab.research.google.com/assets/colab-badge.svg\" alt=\"Open In Colab\"/></a>"
      ]
    },
    {
      "cell_type": "code",
      "metadata": {
        "id": "y5K56W_HWWNY"
      },
      "source": [
        "Projeto Módulo I Bootcamp Alura \n",
        "Bianca Pedrosa\n",
        "Análise dos casos de turbeculose no estado de SP entre 2009 - 2018"
      ],
      "execution_count": null,
      "outputs": []
    },
    {
      "cell_type": "markdown",
      "metadata": {
        "id": "fWqLfePaWz7Q"
      },
      "source": [
        "Importação de bibliotecas"
      ]
    },
    {
      "cell_type": "code",
      "metadata": {
        "id": "nTSYElATWxPD"
      },
      "source": [
        "import pandas as pd\n",
        "import numpy as np\n",
        "import matplotlib.pyplot as plt"
      ],
      "execution_count": null,
      "outputs": []
    },
    {
      "cell_type": "markdown",
      "metadata": {
        "id": "zNUNxMMVW68Y"
      },
      "source": [
        "Leitura dos dados"
      ]
    },
    {
      "cell_type": "code",
      "metadata": {
        "colab": {
          "base_uri": "https://localhost:8080/",
          "height": 308
        },
        "id": "Y1l8nlVBW_qe",
        "outputId": "7169c687-e051-416a-a8d1-df4ca3571037"
      },
      "source": [
        "url=\"/content/TB_2009_2018.csv\"\n",
        "\n",
        "dados = pd.read_csv(url, encoding=\"ISO-8859-1\", engine='python',\n",
        "                   sep=\";\",thousands=\".\", decimal=\",\", index_col=0).drop('Total', axis=1)\n",
        "dados.head()"
      ],
      "execution_count": null,
      "outputs": [
        {
          "output_type": "execute_result",
          "data": {
            "text/html": [
              "<div>\n",
              "<style scoped>\n",
              "    .dataframe tbody tr th:only-of-type {\n",
              "        vertical-align: middle;\n",
              "    }\n",
              "\n",
              "    .dataframe tbody tr th {\n",
              "        vertical-align: top;\n",
              "    }\n",
              "\n",
              "    .dataframe thead th {\n",
              "        text-align: right;\n",
              "    }\n",
              "</style>\n",
              "<table border=\"1\" class=\"dataframe\">\n",
              "  <thead>\n",
              "    <tr style=\"text-align: right;\">\n",
              "      <th></th>\n",
              "      <th>Unnamed: 1</th>\n",
              "      <th>2009</th>\n",
              "      <th>Pop.</th>\n",
              "      <th>2010</th>\n",
              "      <th>Pop..1</th>\n",
              "      <th>2011</th>\n",
              "      <th>Pop..2</th>\n",
              "      <th>2012</th>\n",
              "      <th>Pop..3</th>\n",
              "      <th>2013</th>\n",
              "      <th>Pop..4</th>\n",
              "      <th>2014</th>\n",
              "      <th>Pop..5</th>\n",
              "      <th>2015</th>\n",
              "      <th>Pop..6</th>\n",
              "      <th>2016</th>\n",
              "      <th>Pop..7</th>\n",
              "      <th>2017</th>\n",
              "      <th>Pop..8</th>\n",
              "      <th>2018</th>\n",
              "      <th>Pop..9</th>\n",
              "    </tr>\n",
              "    <tr>\n",
              "      <th>Municpio</th>\n",
              "      <th></th>\n",
              "      <th></th>\n",
              "      <th></th>\n",
              "      <th></th>\n",
              "      <th></th>\n",
              "      <th></th>\n",
              "      <th></th>\n",
              "      <th></th>\n",
              "      <th></th>\n",
              "      <th></th>\n",
              "      <th></th>\n",
              "      <th></th>\n",
              "      <th></th>\n",
              "      <th></th>\n",
              "      <th></th>\n",
              "      <th></th>\n",
              "      <th></th>\n",
              "      <th></th>\n",
              "      <th></th>\n",
              "      <th></th>\n",
              "      <th></th>\n",
              "    </tr>\n",
              "  </thead>\n",
              "  <tbody>\n",
              "    <tr>\n",
              "      <th>ADAMANTINA</th>\n",
              "      <td>3500105</td>\n",
              "      <td>5</td>\n",
              "      <td>34424.0</td>\n",
              "      <td>5</td>\n",
              "      <td>33797.0</td>\n",
              "      <td>5</td>\n",
              "      <td>33820.0</td>\n",
              "      <td>6</td>\n",
              "      <td>33843.0</td>\n",
              "      <td>6</td>\n",
              "      <td>34953.0</td>\n",
              "      <td>4</td>\n",
              "      <td>35001.0</td>\n",
              "      <td>6</td>\n",
              "      <td>35048.0</td>\n",
              "      <td>4</td>\n",
              "      <td>35094.0</td>\n",
              "      <td>5</td>\n",
              "      <td>35139.0</td>\n",
              "      <td>5</td>\n",
              "      <td>35023.0</td>\n",
              "    </tr>\n",
              "    <tr>\n",
              "      <th>ADOLFO</th>\n",
              "      <td>3500204</td>\n",
              "      <td>-</td>\n",
              "      <td>3710.0</td>\n",
              "      <td>-</td>\n",
              "      <td>3557.0</td>\n",
              "      <td>1</td>\n",
              "      <td>3547.0</td>\n",
              "      <td>2</td>\n",
              "      <td>3538.0</td>\n",
              "      <td>-</td>\n",
              "      <td>3639.0</td>\n",
              "      <td>2</td>\n",
              "      <td>3631.0</td>\n",
              "      <td>-</td>\n",
              "      <td>3623.0</td>\n",
              "      <td>2</td>\n",
              "      <td>3616.0</td>\n",
              "      <td>2</td>\n",
              "      <td>3609.0</td>\n",
              "      <td>-</td>\n",
              "      <td>3571.0</td>\n",
              "    </tr>\n",
              "    <tr>\n",
              "      <th>AGUAê</th>\n",
              "      <td>3500303</td>\n",
              "      <td>8</td>\n",
              "      <td>32101.0</td>\n",
              "      <td>14</td>\n",
              "      <td>32168.0</td>\n",
              "      <td>12</td>\n",
              "      <td>32451.0</td>\n",
              "      <td>15</td>\n",
              "      <td>32745.0</td>\n",
              "      <td>8</td>\n",
              "      <td>34188.0</td>\n",
              "      <td>8</td>\n",
              "      <td>34530.0</td>\n",
              "      <td>8</td>\n",
              "      <td>34863.0</td>\n",
              "      <td>10</td>\n",
              "      <td>35189.0</td>\n",
              "      <td>7</td>\n",
              "      <td>35508.0</td>\n",
              "      <td>3</td>\n",
              "      <td>35954.0</td>\n",
              "    </tr>\n",
              "    <tr>\n",
              "      <th>çGUAS DA PRATA</th>\n",
              "      <td>3500402</td>\n",
              "      <td>-</td>\n",
              "      <td>7734.0</td>\n",
              "      <td>-</td>\n",
              "      <td>7580.0</td>\n",
              "      <td>-</td>\n",
              "      <td>7619.0</td>\n",
              "      <td>1</td>\n",
              "      <td>7653.0</td>\n",
              "      <td>1</td>\n",
              "      <td>7942.0</td>\n",
              "      <td>-</td>\n",
              "      <td>7984.0</td>\n",
              "      <td>-</td>\n",
              "      <td>8025.0</td>\n",
              "      <td>-</td>\n",
              "      <td>8065.0</td>\n",
              "      <td>1</td>\n",
              "      <td>8104.0</td>\n",
              "      <td>1</td>\n",
              "      <td>8137.0</td>\n",
              "    </tr>\n",
              "    <tr>\n",
              "      <th>çGUAS DE LINDîIA</th>\n",
              "      <td>3500501</td>\n",
              "      <td>2</td>\n",
              "      <td>16341.0</td>\n",
              "      <td>3</td>\n",
              "      <td>17261.0</td>\n",
              "      <td>1</td>\n",
              "      <td>17353.0</td>\n",
              "      <td>4</td>\n",
              "      <td>17438.0</td>\n",
              "      <td>1</td>\n",
              "      <td>18108.0</td>\n",
              "      <td>1</td>\n",
              "      <td>18212.0</td>\n",
              "      <td>2</td>\n",
              "      <td>18313.0</td>\n",
              "      <td>5</td>\n",
              "      <td>18412.0</td>\n",
              "      <td>5</td>\n",
              "      <td>18509.0</td>\n",
              "      <td>2</td>\n",
              "      <td>18599.0</td>\n",
              "    </tr>\n",
              "  </tbody>\n",
              "</table>\n",
              "</div>"
            ],
            "text/plain": [
              "                 Unnamed: 1 2009     Pop. 2010  ...  2017   Pop..8  2018   Pop..9\n",
              "Municpio                                       ...                              \n",
              "ADAMANTINA          3500105    5  34424.0    5  ...     5  35139.0     5  35023.0\n",
              "ADOLFO              3500204    -   3710.0    -  ...     2   3609.0     -   3571.0\n",
              "AGUAê               3500303    8  32101.0   14  ...     7  35508.0     3  35954.0\n",
              "çGUAS DA PRATA      3500402    -   7734.0    -  ...     1   8104.0     1   8137.0\n",
              "çGUAS DE LINDîIA    3500501    2  16341.0    3  ...     5  18509.0     2  18599.0\n",
              "\n",
              "[5 rows x 21 columns]"
            ]
          },
          "metadata": {
            "tags": []
          },
          "execution_count": 11
        }
      ]
    }
  ]
}